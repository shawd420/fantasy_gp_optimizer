{
 "cells": [
  {
   "cell_type": "markdown",
   "id": "likely-burns",
   "metadata": {},
   "source": [
    "# 2020-21 NHL Season Daily Schedule\n",
    "For each day, collect a list of teams playing that day\n",
    "\n",
    "ex) {\n",
    "        '01Jan2021' : {'Hurricanes', 'Blackhawks', 'Sharks', 'Coyotes'},\n",
    "        '02Jan2021' : {'Oilers', 'Leafs'}\n",
    "    }"
   ]
  },
  {
   "cell_type": "code",
   "execution_count": 59,
   "id": "impressive-absence",
   "metadata": {},
   "outputs": [],
   "source": [
    "import json\n",
    "import pprint\n",
    "import requests\n",
    "import pickle"
   ]
  },
  {
   "cell_type": "code",
   "execution_count": 6,
   "id": "martial-block",
   "metadata": {},
   "outputs": [],
   "source": [
    "## Get NHL Regular Season Schedule for 2020-2021 Season\n",
    "url = \"https://statsapi.web.nhl.com/api/v1/schedule?season=20202021\"\n",
    "headers = {\n",
    "    'User-Agent': 'Mozilla/5.0 (Windows NT 6.1; WOW64) AppleWebKit/537.36 (KHTML, like Gecko) Chrome/46.0.2490.80 Safari/537.36',\n",
    "    'Content-Type': 'text/html',\n",
    "}\n",
    "\n",
    "response = requests.get(url, headers=headers)  # get html from url"
   ]
  },
  {
   "cell_type": "code",
   "execution_count": 9,
   "id": "immune-characteristic",
   "metadata": {},
   "outputs": [],
   "source": [
    "## Convert to JSON format\n",
    "sch = json.loads(response.text)"
   ]
  },
  {
   "cell_type": "code",
   "execution_count": 48,
   "id": "exact-struggle",
   "metadata": {},
   "outputs": [],
   "source": [
    "## For each day in NHL Schedule, collect list of teams playing that day\n",
    "teams_playing_on_date = {}\n",
    "\n",
    "dates = sch['dates']\n",
    "for date in dates:\n",
    "    teams = set()\n",
    "    for game in date['games']:\n",
    "        teams.add(game['teams']['away']['team']['name'])\n",
    "        teams.add(game['teams']['home']['team']['name'])\n",
    "    teams_playing_on_date[date['date']] = teams\n",
    "    \n",
    "#         pprint.pprint(game['teams']['away']['team']['name'])\n",
    "#         pprint.pprint(game['teams']['home']['team']['name'])\n",
    "    \n",
    "#     teams_playing_on_date[todays_date] = {}\n",
    "\n"
   ]
  },
  {
   "cell_type": "code",
   "execution_count": 57,
   "id": "proud-cleveland",
   "metadata": {},
   "outputs": [
    {
     "name": "stdout",
     "output_type": "stream",
     "text": [
      "{'Chicago Blackhawks',\n",
      " 'Colorado Avalanche',\n",
      " 'Edmonton Oilers',\n",
      " 'Montréal Canadiens',\n",
      " 'Philadelphia Flyers',\n",
      " 'Pittsburgh Penguins',\n",
      " 'St. Louis Blues',\n",
      " 'Tampa Bay Lightning',\n",
      " 'Toronto Maple Leafs',\n",
      " 'Vancouver Canucks'}\n",
      "{'Chicago Blackhawks',\n",
      " 'Florida Panthers',\n",
      " 'Pittsburgh Penguins',\n",
      " 'Washington Capitals'}\n",
      "true\n"
     ]
    }
   ],
   "source": [
    "## Verify that data is correct\n",
    "pprint.pprint(teams_playing_on_date['2021-01-13'])\n",
    "\n",
    "pprint.pprint(teams_playing_on_date['2021-01-17'])\n",
    "\n",
    "if 'Chicago Blackhawks' in teams_playing_on_date['2021-01-17']:\n",
    "    print('true')"
   ]
  },
  {
   "cell_type": "code",
   "execution_count": 63,
   "id": "indonesian-induction",
   "metadata": {},
   "outputs": [],
   "source": [
    "## Save as Pickle file\n",
    "with open('../data/2020_21reg_szy_sch.pkl', 'wb') as f:\n",
    "    pickle.dump(teams_playing_on_date, f)"
   ]
  },
  {
   "cell_type": "code",
   "execution_count": 65,
   "id": "hundred-roads",
   "metadata": {},
   "outputs": [],
   "source": [
    "# ## To 'un-pickle' a file\n",
    "# with open('../data/2020_21reg_szy_sch.pkl', 'rb') as f:\n",
    "#     test_dict = pickle.load(f)\n",
    "# pprint.pprint(test_dict)"
   ]
  }
 ],
 "metadata": {
  "kernelspec": {
   "display_name": "Python 3",
   "language": "python",
   "name": "python3"
  },
  "language_info": {
   "codemirror_mode": {
    "name": "ipython",
    "version": 3
   },
   "file_extension": ".py",
   "mimetype": "text/x-python",
   "name": "python",
   "nbconvert_exporter": "python",
   "pygments_lexer": "ipython3",
   "version": "3.8.1"
  }
 },
 "nbformat": 4,
 "nbformat_minor": 5
}
